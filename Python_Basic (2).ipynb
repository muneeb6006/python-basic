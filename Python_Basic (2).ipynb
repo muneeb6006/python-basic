{
  "nbformat": 4,
  "nbformat_minor": 0,
  "metadata": {
    "colab": {
      "provenance": []
    },
    "kernelspec": {
      "name": "python3",
      "display_name": "Python 3"
    },
    "language_info": {
      "name": "python"
    }
  },
  "cells": [
    {
      "cell_type": "code",
      "execution_count": null,
      "metadata": {
        "colab": {
          "base_uri": "https://localhost:8080/",
          "height": 70
        },
        "id": "M8BgjyYkR03S",
        "outputId": "a6b3488a-fb26-4b0b-a3d8-470d4e0996e1"
      },
      "outputs": [
        {
          "output_type": "execute_result",
          "data": {
            "text/plain": [
              "'Python is a high level ,interpreted programming language known for its simplicity and readability.\\nPython emphasizes code reliability, using significant indentation ,which allows programmers to express concepts in fewer lines of code compared to other language.\\n Python is popular for several reasons:\\n 1.Easy to learn and use.\\n 2.Versatile and flexible.\\n 3.Large community and support.\\n 4.Cross-platform compatibility.\\n 5.Extensive libraries and frameworks.'"
            ],
            "application/vnd.google.colaboratory.intrinsic+json": {
              "type": "string"
            }
          },
          "metadata": {},
          "execution_count": 2
        }
      ],
      "source": [
        "# what is python and why is it popular?\n",
        "'''Python is a high level ,interpreted programming language known for its simplicity and readability.\n",
        "Python emphasizes code reliability, using significant indentation ,which allows programmers to express concepts in fewer lines of code compared to\n",
        "other language.\n",
        " Python is popular for several reasons:\n",
        " 1.Easy to learn and use.\n",
        " 2.Versatile and flexible.\n",
        " 3.Large community and support.\n",
        " 4.Cross-platform compatibility.\n",
        " 5.Extensive libraries and frameworks.'''"
      ]
    },
    {
      "cell_type": "code",
      "source": [
        "#What is an interpreter in python?\n",
        "'''An interpreter is a program that reads and executes python code directly ,translating it into machine code at runtime.\n",
        "Unlike compiled languages (such as C or Java),requires a seperate compilation step to convert source code into machine code before execution'''"
      ],
      "metadata": {
        "colab": {
          "base_uri": "https://localhost:8080/",
          "height": 53
        },
        "id": "h2Tnk87DVBvf",
        "outputId": "9bfa3383-eab5-4b79-aec6-253a10e2c759"
      },
      "execution_count": null,
      "outputs": [
        {
          "output_type": "execute_result",
          "data": {
            "text/plain": [
              "'An interpreter is a program that reads and executes python code directly ,translating it into machine code at runtime.\\nUnlike compiled languages (such as C or Java),requires a seperate compilation step to convert source code into machine code before execution'"
            ],
            "application/vnd.google.colaboratory.intrinsic+json": {
              "type": "string"
            }
          },
          "metadata": {},
          "execution_count": 3
        }
      ]
    },
    {
      "cell_type": "code",
      "source": [
        "#What are pre-defined keywords in python?\n",
        "'''Pre-defined words in python also known as reserved words are used to define the syntax and structure of the python language.\n",
        "These keywords cannot be used as variable names or identifiers.\n",
        "Here is a list of python's pre-defined keywords:\n",
        "False,None,True,and,as,assert,async,await,break,class,continue,def,del,elif,else,except,finally,for etc.'''"
      ],
      "metadata": {
        "colab": {
          "base_uri": "https://localhost:8080/",
          "height": 70
        },
        "id": "RVP0uEqIW9UZ",
        "outputId": "9a405236-063a-4ff5-8829-c83cbe3646af"
      },
      "execution_count": null,
      "outputs": [
        {
          "output_type": "execute_result",
          "data": {
            "text/plain": [
              "\"Pre-defined words in python also known as reserved words are used to define the syntax and structure of the python language.\\nThese keywords cannot be used as variable names or identifiers.\\nHere is a list of python's pre-defined keywords:\\nFalse,None,True,and,as,assert,async,await,break,class,continue,def,del,elif,else,except,finally,for etc.\""
            ],
            "application/vnd.google.colaboratory.intrinsic+json": {
              "type": "string"
            }
          },
          "metadata": {},
          "execution_count": 4
        }
      ]
    },
    {
      "cell_type": "code",
      "source": [
        "#Can keywords be used as variable names?\n",
        "'''No ,keywords have special meanings and are reserved by the language for specific syntax or functionality'''"
      ],
      "metadata": {
        "colab": {
          "base_uri": "https://localhost:8080/",
          "height": 35
        },
        "id": "slyTAMZ5Xvaa",
        "outputId": "7a985c63-24cb-49dd-a98c-756223908576"
      },
      "execution_count": null,
      "outputs": [
        {
          "output_type": "execute_result",
          "data": {
            "text/plain": [
              "'No ,keywords have special meanings and are reserved by the language for specific syntax or functionality'"
            ],
            "application/vnd.google.colaboratory.intrinsic+json": {
              "type": "string"
            }
          },
          "metadata": {},
          "execution_count": 5
        }
      ]
    },
    {
      "cell_type": "code",
      "source": [
        "#what is mutability in python?\n",
        "'''Mutability in python refers to the ability of an object to be changed after it has been created.'''"
      ],
      "metadata": {
        "colab": {
          "base_uri": "https://localhost:8080/",
          "height": 35
        },
        "id": "J_Ih9538YQzo",
        "outputId": "bc491c16-3bc8-4d45-8082-7fef70a568e2"
      },
      "execution_count": null,
      "outputs": [
        {
          "output_type": "execute_result",
          "data": {
            "text/plain": [
              "'Mutability in python refers to the ability of an object to be changed after it has been created.'"
            ],
            "application/vnd.google.colaboratory.intrinsic+json": {
              "type": "string"
            }
          },
          "metadata": {},
          "execution_count": 6
        }
      ]
    },
    {
      "cell_type": "code",
      "source": [
        "#Why are lists mutable but tuples are immutable?\n",
        "'''Lists are mutable because theythey are designed to be dynamic and versatile data structures that allows modification .\n",
        "You can add, remove or modify elements in a list after its creation.\n",
        "   ->Tuples are designed to represent fixed collections of items where the data should not change.Once a tuple is created,you cannot alter its elements.'''\n"
      ],
      "metadata": {
        "colab": {
          "base_uri": "https://localhost:8080/",
          "height": 70
        },
        "id": "ogXXfhU0ZX6H",
        "outputId": "b2b58c53-f3cf-47cf-82f2-e024cce94519"
      },
      "execution_count": null,
      "outputs": [
        {
          "output_type": "execute_result",
          "data": {
            "text/plain": [
              "'Lists are mutable because theythey are designed to be dynamic and versatile data structures that allows modification .\\nYou can add, remove or modify elements in a list after its creation.\\n   ->Tuples are designed to represent fixed collections of items where the data should not change.Once a tuple is created,you cannot alter its elements.'"
            ],
            "application/vnd.google.colaboratory.intrinsic+json": {
              "type": "string"
            }
          },
          "metadata": {},
          "execution_count": 11
        }
      ]
    },
    {
      "cell_type": "code",
      "source": [
        "#What is difference between == and is operators in python?\n",
        "'''The == operator checks value equality meaning it compares whether the value of two objects are equal.\n",
        " ->The is operator checks identity equality meaning it compares whether two objects refer to the same memory location.'''"
      ],
      "metadata": {
        "colab": {
          "base_uri": "https://localhost:8080/",
          "height": 53
        },
        "id": "AD62UfOgbZJB",
        "outputId": "b4feac81-96fc-4c10-c7fa-48782522f74f"
      },
      "execution_count": null,
      "outputs": [
        {
          "output_type": "execute_result",
          "data": {
            "text/plain": [
              "'The == operator checks value equality meaning it compares whether the value of two objects are equal.\\n ->The is operator checks identity equality meaning it compares whether two objects refer to the same memory location.'"
            ],
            "application/vnd.google.colaboratory.intrinsic+json": {
              "type": "string"
            }
          },
          "metadata": {},
          "execution_count": 12
        }
      ]
    },
    {
      "cell_type": "code",
      "source": [
        "#what are the logical operators in python?\n",
        "'''Python has three logical operators that are used to combine conditional statements and return Boolean values(True and False).\n",
        "The logical operators are :and,or,not.'''"
      ],
      "metadata": {
        "colab": {
          "base_uri": "https://localhost:8080/",
          "height": 53
        },
        "id": "7hC9PXL9cdNG",
        "outputId": "de2a6c09-cf0e-453a-80bf-ad268061c85f"
      },
      "execution_count": null,
      "outputs": [
        {
          "output_type": "execute_result",
          "data": {
            "text/plain": [
              "'Python has three logical operators that are used to combine conditional statements and return Boolean values(True and False).\\nThe logical operators are :and,or,not.'"
            ],
            "application/vnd.google.colaboratory.intrinsic+json": {
              "type": "string"
            }
          },
          "metadata": {},
          "execution_count": 13
        }
      ]
    },
    {
      "cell_type": "code",
      "source": [
        "#What is type casting in python?\n",
        "'''Type casting in python refers to converting one data type into another.\n",
        "There are two types of type casting:\n",
        "1.Implicit\n",
        "2.Expilicit'''"
      ],
      "metadata": {
        "colab": {
          "base_uri": "https://localhost:8080/",
          "height": 35
        },
        "id": "9XltpC2SdKcy",
        "outputId": "73a580fc-34ea-4704-85e8-6be86dafe133"
      },
      "execution_count": null,
      "outputs": [
        {
          "output_type": "execute_result",
          "data": {
            "text/plain": [
              "'Type casting in python refers to converting one data type into another.\\nThere are two types of type casting:\\n1.Implicit \\n2.Expilicit'"
            ],
            "application/vnd.google.colaboratory.intrinsic+json": {
              "type": "string"
            }
          },
          "metadata": {},
          "execution_count": 14
        }
      ]
    },
    {
      "cell_type": "code",
      "source": [
        "#What is the difference between implicit and explicit cast typing?\n",
        "'''The key difference between implicit and explicit data type casting in python lies in who initiates the type conversion:\n",
        "whether python does it automatically ,or if the developer explicitly directs it.'''"
      ],
      "metadata": {
        "colab": {
          "base_uri": "https://localhost:8080/",
          "height": 53
        },
        "id": "LMTaUew1dn7d",
        "outputId": "eaaea9ec-d9e4-44f0-fb1e-420c79e88d97"
      },
      "execution_count": null,
      "outputs": [
        {
          "output_type": "execute_result",
          "data": {
            "text/plain": [
              "'The key difference between implicit and explicit data type casting in python lies in who initiates the type conversion:\\nwhether python does it automatically ,or if the developer explicitly directs it.'"
            ],
            "application/vnd.google.colaboratory.intrinsic+json": {
              "type": "string"
            }
          },
          "metadata": {},
          "execution_count": 15
        }
      ]
    },
    {
      "cell_type": "code",
      "source": [
        "#What is the purpose of condtional statements in python?\n",
        "'''The purpose of conditional statements in python is to allow the program to make decision based on certain conditions.They enable you to execute\n",
        "diffrent blocks of code depending upon whether the condition is True or False.\n",
        "This is essential for controlling the flow of a program and making it more dynamic and responsive to diffrent inputs or situations.'''"
      ],
      "metadata": {
        "colab": {
          "base_uri": "https://localhost:8080/",
          "height": 70
        },
        "id": "HYu9ZeHFebL6",
        "outputId": "45945acf-4e28-4434-b5ad-e8dd9e355d73"
      },
      "execution_count": null,
      "outputs": [
        {
          "output_type": "execute_result",
          "data": {
            "text/plain": [
              "'The purpose of conditional statements in python is to allow the program to make decision based on certain conditions.They enable you to execute \\ndiffrent blocks of code depending upon whether the condition is True or False.\\nThis is essential for controlling the flow of a program and making it more dynamic and responsive to diffrent inputs or situations.'"
            ],
            "application/vnd.google.colaboratory.intrinsic+json": {
              "type": "string"
            }
          },
          "metadata": {},
          "execution_count": 16
        }
      ]
    },
    {
      "cell_type": "code",
      "source": [
        "#How does the elif statement work?\n",
        "'''The elif statement stands for \"else if\" and is used in conjuction with if and else to check multiple conditions sequentially.\n",
        "The elif statement allows you to test multiple expression for True and execute a block of code as soon as one of the condition evaluates to True.'''"
      ],
      "metadata": {
        "colab": {
          "base_uri": "https://localhost:8080/",
          "height": 53
        },
        "id": "yr2TKJG3ft1F",
        "outputId": "5709e47b-68ae-4411-a3c7-ae4dab9f565e"
      },
      "execution_count": null,
      "outputs": [
        {
          "output_type": "execute_result",
          "data": {
            "text/plain": [
              "'The elif statement stands for \"else if\" and is used in conjuction with if and else to check multiple conditions sequentially.\\nThe elif statement allows you to test multiple expression for True and execute a block of code as soon as one of the condition evaluates to True.'"
            ],
            "application/vnd.google.colaboratory.intrinsic+json": {
              "type": "string"
            }
          },
          "metadata": {},
          "execution_count": 17
        }
      ]
    },
    {
      "cell_type": "code",
      "source": [
        "#What is the diffrence between for and while loop?\n",
        "'''The primary diffrence between  them is how they control the iteration and  under what circumstances they are typically used.\n",
        "In python both For and While loops are used to repeat a block of code multiple times,but they are used in diffrent scenarios and have diffrence in :\n",
        "1.Use case\n",
        "2.Control\n",
        "3.Number of iteration\n",
        "4.Loop structure\n",
        "5.Termination\n",
        "6.Typical use\n",
        "->For loop is used to iterate over a sequence (like a list,string or range) and runs for a fixed number of\n",
        "iterations,determined by the length of the sequence or the range.\n",
        "->While loop runs as long as a given condition is True.It is typicaly used when the number of iterations are unknown in advance and the loop\n",
        "depends on a condition being met.'''"
      ],
      "metadata": {
        "colab": {
          "base_uri": "https://localhost:8080/",
          "height": 105
        },
        "id": "X1wFyd2egk0_",
        "outputId": "8d084c33-05e8-4b86-f379-3be5ba99be94"
      },
      "execution_count": null,
      "outputs": [
        {
          "output_type": "execute_result",
          "data": {
            "text/plain": [
              "'The primary diffrence between  them is how they control the iteration and  under what circumstances they are typically used.\\nIn python both For and While loops are used to repeat a block of code multiple times,but they are used in diffrent scenarios and have diffrence in :\\n1.Use case\\n2.Control\\n3.Number of iteration\\n4.Loop structure\\n5.Termination\\n6.Typical use\\n->For loop is used to iterate over a sequence (like a list,string or range) and runs for a fixed number of  \\niterations,determined by the length of the sequence or the range.\\n->While loop runs as long as a given condition is True.It is typicaly used when the number of iterations are unknown in advance and the loop\\ndepends on a condition being met.'"
            ],
            "application/vnd.google.colaboratory.intrinsic+json": {
              "type": "string"
            }
          },
          "metadata": {},
          "execution_count": 18
        }
      ]
    },
    {
      "cell_type": "code",
      "source": [
        "#Describe a scenario where a while loop is more suitable than for loop?\n",
        "'''A while loop is more suitable than a For loop when the number of iterations are not known ahead of time and\n",
        "->SCENARIO: waiting for user's input untill a valid input is provided:\n",
        "Imagine you are creating a program that asks a user to enter their password.\n",
        "You need to program to keep promoting the user for input untill they provide a valid password that meets the specific criteria (length,special,characters).\n",
        "In this case the number of attempts the user will need is unknown in advance ,so a while loop would be more suitable than a for loop.'''\n"
      ],
      "metadata": {
        "colab": {
          "base_uri": "https://localhost:8080/",
          "height": 87
        },
        "id": "qyDCyAX9i4kk",
        "outputId": "278205f6-a9ef-4322-873e-b7bd183e2a48"
      },
      "execution_count": null,
      "outputs": [
        {
          "output_type": "execute_result",
          "data": {
            "text/plain": [
              "\"A while loop is more suitable than a For loop when the number of iterations are not known ahead of time and  \\n->SCENARIO: waiting for user's input untill a valid input is provided:\\nImagine you are creating a program that asks a user to enter their password. \\nYou need to program to keep promoting the user for input untill they provide a valid password that meets the specific criteria (length,special,characters).\\nIn this case the number of attempts the user will need is unknown in advance ,so a while loop would be more suitable than a for loop.\""
            ],
            "application/vnd.google.colaboratory.intrinsic+json": {
              "type": "string"
            }
          },
          "metadata": {},
          "execution_count": 19
        }
      ]
    },
    {
      "cell_type": "code",
      "source": [],
      "metadata": {
        "id": "UsBAx73il33C"
      },
      "execution_count": null,
      "outputs": []
    },
    {
      "cell_type": "markdown",
      "source": [
        "**PRACTICAL**"
      ],
      "metadata": {
        "id": "fa4zgJy7l8uF"
      }
    },
    {
      "cell_type": "code",
      "source": [
        "#Write a program to print\"hello,world\"\n",
        "print(\"hello world\")"
      ],
      "metadata": {
        "colab": {
          "base_uri": "https://localhost:8080/"
        },
        "id": "Qff85RgZmCn4",
        "outputId": "32ffbef4-729c-4f06-c83a-52db8e884c8d"
      },
      "execution_count": null,
      "outputs": [
        {
          "output_type": "stream",
          "name": "stdout",
          "text": [
            "hello world\n"
          ]
        }
      ]
    },
    {
      "cell_type": "code",
      "source": [
        "name=input(\"enter your name: \")\n",
        "age=input(\"enter your age: \")"
      ],
      "metadata": {
        "colab": {
          "base_uri": "https://localhost:8080/"
        },
        "id": "i2JBJ9JsnGfm",
        "outputId": "20777b8e-8ea3-4f8d-e58e-190036037f92"
      },
      "execution_count": null,
      "outputs": [
        {
          "name": "stdout",
          "output_type": "stream",
          "text": [
            "enter your name: muneeb\n",
            "enter your age: 21\n"
          ]
        }
      ]
    },
    {
      "cell_type": "code",
      "source": [
        "# write a program to print all the pre-defined keywords in python using th\n",
        " keyword library\n",
        "import keyword\n",
        "print(keyword.kwlist)"
      ],
      "metadata": {
        "colab": {
          "base_uri": "https://localhost:8080/"
        },
        "id": "qyNpKLn3q1ss",
        "outputId": "cc161af7-b918-442d-f126-9aa4d652232c"
      },
      "execution_count": null,
      "outputs": [
        {
          "output_type": "stream",
          "name": "stdout",
          "text": [
            "['False', 'None', 'True', 'and', 'as', 'assert', 'async', 'await', 'break', 'class', 'continue', 'def', 'del', 'elif', 'else', 'except', 'finally', 'for', 'from', 'global', 'if', 'import', 'in', 'is', 'lambda', 'nonlocal', 'not', 'or', 'pass', 'raise', 'return', 'try', 'while', 'with', 'yield']\n"
          ]
        }
      ]
    },
    {
      "cell_type": "code",
      "source": [
        "#write a program that checks if a given word is a python keyword.\n",
        "'''import keyword\n",
        "def is_keyword(word):\n",
        "  if keyword.iskeyword(word):\n",
        "    return f\"'{word}' is a python keyword.\"\n",
        "  else:\n",
        "    return f\"'{word}' is not a python keyword.\"'''"
      ],
      "metadata": {
        "id": "iSvopchCsbDS",
        "colab": {
          "base_uri": "https://localhost:8080/",
          "height": 53
        },
        "outputId": "2246f76a-869a-452b-ce7d-63b75431f2f7"
      },
      "execution_count": null,
      "outputs": [
        {
          "output_type": "execute_result",
          "data": {
            "text/plain": [
              "'import keyword\\ndef is_keyword(word):\\n  if keyword.iskeyword(word):\\n    return f\"\\'{word}\\' is a python keyword.\"\\n  else:\\n    return f\"\\'{word}\\' is not a python keyword.\"'"
            ],
            "application/vnd.google.colaboratory.intrinsic+json": {
              "type": "string"
            }
          },
          "metadata": {},
          "execution_count": 7
        }
      ]
    },
    {
      "cell_type": "code",
      "source": [
        "#create a list  and tuple in python,and demonstrate how attempting to change an element for each.\n",
        "my_list=[1,2,3]\n",
        "my_tuple=(4,5,6)\n",
        "print(\"orginal list:\", my_list)\n",
        "my_list[1]=10\n",
        "print(\"modified list:\",my_list)\n",
        "#attempting to modify an element in the tuple(will raise an error)\n",
        "print(\"orginal tuple:\",my_tuple)"
      ],
      "metadata": {
        "colab": {
          "base_uri": "https://localhost:8080/"
        },
        "id": "7dj920rGcCkI",
        "outputId": "df8a9860-ffcf-4eef-f0b0-63cc0f00e405"
      },
      "execution_count": null,
      "outputs": [
        {
          "output_type": "stream",
          "name": "stdout",
          "text": [
            "orginal list: [1, 2, 3]\n",
            "modified list: [1, 10, 3]\n",
            "orginal tuple: (4, 5, 6)\n"
          ]
        }
      ]
    },
    {
      "cell_type": "code",
      "source": [
        "#write a function to demonstrate the behaviour of mutable and immutable arguments.\n",
        "def modify_value(mutable_obj, immutable_obj):\n",
        "  #modifying the mutable object (e.g.,list)\n",
        "  mutable_obj.append(4)\n",
        "  print(f\"inside function,mutable object after modification:[mutable_obj]\")\n",
        "  immutable_obj+=10\n",
        "  print(f\"inside function,immutable object after modification:[immutable_obj]\")"
      ],
      "metadata": {
        "id": "I7-zLQcmdiCF"
      },
      "execution_count": null,
      "outputs": []
    },
    {
      "cell_type": "code",
      "source": [
        "#write a program that performs basic arthimetic operations on two user-input numbers\n",
        "def arthimetic_operations(num1,num2):\n",
        "  print(f\"addition:[num1]+[num2]=[num1+num2]\")\n",
        "  print(f\"subtraction :[num1]-[num2]=[num1-num2]\")\n",
        "  print(f\"multiplication:[num1]/[num2]=[num1/num2]\")\n",
        "  if num2!=0:\n",
        "    print(f\"division by zero is not allowed\")\n",
        "    #input two numbers from the user\n",
        "\n",
        "\n"
      ],
      "metadata": {
        "id": "z-GYUQk3hraI"
      },
      "execution_count": null,
      "outputs": []
    },
    {
      "cell_type": "code",
      "source": [
        "#write a program to demonstrate the use of logical operators.\n",
        "def logical_operations(a,b):\n",
        "  print(f\"a={a},b={b}\")\n",
        "  #logical AND:True if both are True\n",
        "  result_and=a and b\n",
        "  print(f\"a and b:{result_and}\")\n",
        "\n",
        "  result_and=a and b\n",
        "  print(f\"a and b:{result_and}\")\n",
        "  #logical OR: True if at least one is True\n",
        "  result_or=a or b\n",
        "  print(f\"a or b:{result_or}\")\n",
        "  #logical NOT:True if operand is False\n",
        "  result_not_a=not a\n",
        "  result_not_b=not b\n",
        "  print(f\"not a:{result_not_a}\")\n",
        "  print(f\"not b:{result_not_b}\")"
      ],
      "metadata": {
        "id": "SNcVrPHykR68"
      },
      "execution_count": null,
      "outputs": []
    },
    {
      "cell_type": "code",
      "source": [
        "#write a python program to convert user input from string to integer ,float and boolean type.\n",
        "def convert_input(user_input):\n",
        "  try:\n",
        "    #convert to integer\n",
        "    int_value=int(user_input)\n",
        "    print(f\"integer conversion:{int_value}\")\n",
        "    except ValueError:\n",
        "      print(\"cannot convert to integer.\")\n",
        "    try:\n",
        "    #convert to float\n",
        "    float_value=float(user_input)\n",
        "    print(f\"float conversion :{float_value}\")\n",
        "    except ValueError:\n",
        "      print(\"cannot convert to float.\")\n",
        " #convert to boolean\n",
        " #any non-empty string or non-zero numberwill be considered True ,except'0'\n",
        "   bool_value=bool(user_input) and user_input !='0'\n",
        " print(f\"boolean conversion:{bool_value}\")\n",
        "\n"
      ],
      "metadata": {
        "id": "PHUfF_YJn6uF"
      },
      "execution_count": null,
      "outputs": []
    },
    {
      "cell_type": "code",
      "source": [
        "\n",
        "#write a code to demonstrate type casting with list elements.\n",
        "def type_casting_with_list(input_list):\n",
        "  print(f\"orginal list:{input_list}\")\n",
        "\n",
        "  #cast elements to integer(if possible)\n",
        "  try:\n",
        "    int_list=[int(x) for x in input_list]\n",
        "    print(f\"list elements casted to integers: {int_list}\")\n",
        "  except ValueError as e:\n",
        "    print(f\"error casting to integers:{e}\")\n",
        "\n",
        "  # cast elements to float(if possible)\n",
        "  try:\n",
        "    float_list=[float(x) for x in input_list]\n",
        "    print(f\"list elements casted to floats: {float_list}\")\n",
        "  except ValueError as e:\n",
        "    print(f\"error casting to floats:{e}\")\n",
        "\n",
        "  # cast elements to  boolean\n",
        "  bool_list=[bool(x)for x in input_list]\n",
        "  print(f\"list elements casted to booleans:{bool_list}\")\n",
        "\n",
        "\n",
        "\n",
        "\n"
      ],
      "metadata": {
        "id": "KW0RJhJOp6tc"
      },
      "execution_count": 16,
      "outputs": []
    },
    {
      "cell_type": "code",
      "source": [
        "#write a program that checks if a number is positive,negative or zero.\n",
        "def check_number(num):\n",
        "  if num>0:\n",
        "    return \"the number is positive.\"\n",
        "  elif num<0:\n",
        "      return \"the number is negative.\"\n",
        "  else:\n",
        "    return \"the number is zero.\"\n",
        ""
      ],
      "metadata": {
        "id": "wMZCPKomuREW"
      },
      "execution_count": 15,
      "outputs": []
    },
    {
      "cell_type": "code",
      "source": [
        "#write a loop to print numbers from 1 to 10.\n",
        "for num in range(1,11):\n",
        "  print(num)"
      ],
      "metadata": {
        "colab": {
          "base_uri": "https://localhost:8080/"
        },
        "id": "q-W-aNaGCQyq",
        "outputId": "5885cc41-2dfa-4756-d65d-69cc18a25a16"
      },
      "execution_count": 4,
      "outputs": [
        {
          "output_type": "stream",
          "name": "stdout",
          "text": [
            "1\n",
            "2\n",
            "3\n",
            "4\n",
            "5\n",
            "6\n",
            "7\n",
            "8\n",
            "9\n",
            "10\n"
          ]
        }
      ]
    },
    {
      "cell_type": "code",
      "source": [
        "#write a python program to find the sum of all even numbers between 1 and 50.\n",
        "even_sum=0\n",
        "for num in range(1,51):\n",
        "  if num %2==0:\n",
        "    even_sum+=num\n",
        "    print(\"the sum of all even numbers between 1 and 50 is:\",even_sum)"
      ],
      "metadata": {
        "colab": {
          "base_uri": "https://localhost:8080/"
        },
        "id": "u8ktBu2aChx_",
        "outputId": "308df2a4-628c-4c96-e143-e9fb204cabe8"
      },
      "execution_count": 9,
      "outputs": [
        {
          "output_type": "stream",
          "name": "stdout",
          "text": [
            "the sum of all even numbers between 1 and 50 is: 2\n",
            "the sum of all even numbers between 1 and 50 is: 6\n",
            "the sum of all even numbers between 1 and 50 is: 12\n",
            "the sum of all even numbers between 1 and 50 is: 20\n",
            "the sum of all even numbers between 1 and 50 is: 30\n",
            "the sum of all even numbers between 1 and 50 is: 42\n",
            "the sum of all even numbers between 1 and 50 is: 56\n",
            "the sum of all even numbers between 1 and 50 is: 72\n",
            "the sum of all even numbers between 1 and 50 is: 90\n",
            "the sum of all even numbers between 1 and 50 is: 110\n",
            "the sum of all even numbers between 1 and 50 is: 132\n",
            "the sum of all even numbers between 1 and 50 is: 156\n",
            "the sum of all even numbers between 1 and 50 is: 182\n",
            "the sum of all even numbers between 1 and 50 is: 210\n",
            "the sum of all even numbers between 1 and 50 is: 240\n",
            "the sum of all even numbers between 1 and 50 is: 272\n",
            "the sum of all even numbers between 1 and 50 is: 306\n",
            "the sum of all even numbers between 1 and 50 is: 342\n",
            "the sum of all even numbers between 1 and 50 is: 380\n",
            "the sum of all even numbers between 1 and 50 is: 420\n",
            "the sum of all even numbers between 1 and 50 is: 462\n",
            "the sum of all even numbers between 1 and 50 is: 506\n",
            "the sum of all even numbers between 1 and 50 is: 552\n",
            "the sum of all even numbers between 1 and 50 is: 600\n",
            "the sum of all even numbers between 1 and 50 is: 650\n"
          ]
        }
      ]
    },
    {
      "cell_type": "code",
      "source": [
        "#write a program to reverse a string a while loop.\n",
        "def reverse_string(s):\n",
        "  reversed_str=\"\"\n",
        "  index=len(s) -1\n",
        "  while index >=0:\n",
        "    reversed_str =+s[index]\n",
        "    index -=1\n",
        "    return reversed_str"
      ],
      "metadata": {
        "id": "Fz555rSfC4Wo"
      },
      "execution_count": 11,
      "outputs": []
    },
    {
      "cell_type": "code",
      "source": [
        "#write a python program to calculate the factorial of a number provided by the user using a while loop.\n",
        "def factorial(num):\n",
        "  result=1\n",
        "#write a python program to calculate the factorial of a number provided by the user using a while loop.\n",
        "def factorial(num):\n",
        "  result=1\n",
        "  if num<0:\n",
        "    return \"factorial is not defined for negative numbers.\"\n",
        "  elif num==0:\n",
        "    return 1\n",
        "  else:\n",
        "      while num>0:\n",
        "        result *=num\n",
        "        num-=1\n",
        "      return result\n",
        "\n",
        ""
      ],
      "metadata": {
        "id": "hXHyN-IEEg2o"
      },
      "execution_count": 14,
      "outputs": []
    },
    {
      "cell_type": "code",
      "source": [],
      "metadata": {
        "id": "DKJ-QpfOFdXG"
      },
      "execution_count": null,
      "outputs": []
    }
  ]
}